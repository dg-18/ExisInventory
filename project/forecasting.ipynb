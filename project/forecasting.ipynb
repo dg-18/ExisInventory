{
 "cells": [
  {
   "cell_type": "code",
   "execution_count": 27,
   "metadata": {},
   "outputs": [
    {
     "name": "stdout",
     "output_type": "stream",
     "text": [
      "All items have sufficient inventory for the forecasted demand.\n",
      "Demand forecasting and inventory check complete.\n"
     ]
    }
   ],
   "source": [
    "import pandas as pd\n",
    "import joblib\n",
    "from datetime import datetime\n",
    "\n",
    "models = joblib.load('sales_forecasting_arima_models.pkl')\n",
    "\n",
    "forecast_steps = 7\n",
    "forecast_results = []\n",
    "\n",
    "for item_id, model_fit in models.items():\n",
    "    forecast = model_fit.get_forecast(steps=forecast_steps)\n",
    "    forecast_index = pd.date_range(start=datetime.now(), periods=forecast_steps, freq='D')\n",
    "    forecast_df = pd.DataFrame({\n",
    "        'item id': item_id,\n",
    "        'ds': forecast_index,\n",
    "        'forecasted_quantity': forecast.predicted_mean\n",
    "    })\n",
    "    forecast_results.append(forecast_df)\n",
    "\n",
    "forecast_all = pd.concat(forecast_results)\n",
    "\n",
    "df_inventory = pd.read_csv('inventory_data.csv')\n",
    "\n",
    "df_inventory['item id'] = df_inventory['item name'].apply(lambda x: int(x.split()[1]))\n",
    "\n",
    "forecast_merged = forecast_all.merge(df_inventory[['item id', 'stock quantity']], on='item id', how='left')\n",
    "\n",
    "summary = forecast_merged.groupby('item id').agg({\n",
    "    'forecasted_quantity': 'sum',\n",
    "    'stock quantity': 'max'\n",
    "}).reset_index()\n",
    "\n",
    "insufficient_inventory = []\n",
    "\n",
    "for index, row in summary.iterrows():\n",
    "    item_id = row['item id']\n",
    "    total_forecasted_demand = row['forecasted_quantity']\n",
    "    inventory_stock = row['stock quantity']\n",
    "    \n",
    "    if inventory_stock < total_forecasted_demand:\n",
    "        insufficient_inventory.append({\n",
    "            'item id': item_id,\n",
    "            'forecasted_demand': total_forecasted_demand,\n",
    "            'available_stock': inventory_stock\n",
    "        })\n",
    "\n",
    "if insufficient_inventory:\n",
    "    print(\"Items with insufficient inventory for the forecasted demand:\")\n",
    "    for item in insufficient_inventory:\n",
    "        print(f\"Item ID {item['item id']}: Forecasted Demand = {item['forecasted_demand']:.2f}, Available Stock = {item['available_stock']}\")\n",
    "else:\n",
    "    print(\"All items have sufficient inventory for the forecasted demand.\")\n",
    "\n",
    "print(\"Demand forecasting and inventory check complete.\")\n"
   ]
  },
  {
   "cell_type": "code",
   "execution_count": null,
   "metadata": {},
   "outputs": [],
   "source": []
  }
 ],
 "metadata": {
  "kernelspec": {
   "display_name": "Python 3",
   "language": "python",
   "name": "python3"
  },
  "language_info": {
   "codemirror_mode": {
    "name": "ipython",
    "version": 3
   },
   "file_extension": ".py",
   "mimetype": "text/x-python",
   "name": "python",
   "nbconvert_exporter": "python",
   "pygments_lexer": "ipython3",
   "version": "3.12.4"
  }
 },
 "nbformat": 4,
 "nbformat_minor": 2
}
