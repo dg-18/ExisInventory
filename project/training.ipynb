{
 "cells": [
  {
   "cell_type": "code",
   "execution_count": 10,
   "metadata": {},
   "outputs": [
    {
     "name": "stdout",
     "output_type": "stream",
     "text": [
      "Model training complete and saved as 'sales_forecasting_arima_models.pkl'.\n"
     ]
    }
   ],
   "source": [
    "import pandas as pd\n",
    "from statsmodels.tsa.arima.model import ARIMA\n",
    "import joblib\n",
    "\n",
    "df_sales = pd.read_csv('sales_data.csv')\n",
    "\n",
    "df_sales['ds'] = pd.to_datetime(df_sales['date'] + ' ' + df_sales['time'])\n",
    "df_sales.set_index('ds', inplace=True)\n",
    "\n",
    "item_ids = df_sales['item id'].unique()\n",
    "models = {}\n",
    "\n",
    "for item_id in item_ids:\n",
    "    df_item = df_sales[df_sales['item id'] == item_id]\n",
    "    df_item_daily = df_item.resample('D').sum() \n",
    "    \n",
    "    model = ARIMA(df_item_daily['quantity sold'], order=(5, 1, 0)) \n",
    "    model_fit = model.fit()\n",
    "    \n",
    "    models[item_id] = model_fit\n",
    "\n",
    "joblib.dump(models, 'sales_forecasting_arima_models.pkl')\n",
    "\n",
    "print(\"Model training complete and saved as 'sales_forecasting_arima_models.pkl'.\")\n"
   ]
  },
  {
   "cell_type": "code",
   "execution_count": null,
   "metadata": {},
   "outputs": [],
   "source": []
  }
 ],
 "metadata": {
  "kernelspec": {
   "display_name": "Python 3",
   "language": "python",
   "name": "python3"
  },
  "language_info": {
   "codemirror_mode": {
    "name": "ipython",
    "version": 3
   },
   "file_extension": ".py",
   "mimetype": "text/x-python",
   "name": "python",
   "nbconvert_exporter": "python",
   "pygments_lexer": "ipython3",
   "version": "3.12.4"
  }
 },
 "nbformat": 4,
 "nbformat_minor": 2
}
